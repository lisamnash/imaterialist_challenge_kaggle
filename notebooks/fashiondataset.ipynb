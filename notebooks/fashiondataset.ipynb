{
 "cells": [
  {
   "cell_type": "code",
   "execution_count": 50,
   "metadata": {},
   "outputs": [],
   "source": [
    "import h5py\n",
    "import numpy as np"
   ]
  },
  {
   "cell_type": "code",
   "execution_count": 51,
   "metadata": {},
   "outputs": [
    {
     "name": "stdout",
     "output_type": "stream",
     "text": [
      "['#refs#', 'all_category_name', 'all_colors_name', 'fashion_dataset']\n"
     ]
    }
   ],
   "source": [
    "\n",
    "\n",
    "f = h5py.File('../data/tmm_dataset_sharing/fashon_parsing_data.mat', 'r')\n",
    "print(list(f.keys()))\n",
    "category_name = f.get('all_category_name').value\n",
    "colors_name = f.get('all_colors_name').value\n",
    "fashion_dataset = f.get('fashion_dataset').value\n"
   ]
  },
  {
   "cell_type": "code",
   "execution_count": 56,
   "metadata": {},
   "outputs": [
    {
     "data": {
      "text/plain": [
       "array([[ 84],\n",
       "       [ 45],\n",
       "       [115],\n",
       "       [104],\n",
       "       [105],\n",
       "       [114],\n",
       "       [116]], dtype=uint16)"
      ]
     },
     "execution_count": 56,
     "metadata": {},
     "output_type": "execute_result"
    }
   ],
   "source": [
    "f[category_name[0][1]].value"
   ]
  },
  {
   "cell_type": "code",
   "execution_count": 57,
   "metadata": {},
   "outputs": [
    {
     "data": {
      "text/plain": [
       "array([[ 98],\n",
       "       [101],\n",
       "       [105],\n",
       "       [103],\n",
       "       [101]], dtype=uint16)"
      ]
     },
     "execution_count": 57,
     "metadata": {},
     "output_type": "execute_result"
    }
   ],
   "source": [
    "f[colors_name[0][1]].value"
   ]
  },
  {
   "cell_type": "code",
   "execution_count": 48,
   "metadata": {},
   "outputs": [
    {
     "data": {
      "text/plain": [
       "<HDF5 group \"/#refs#/L\" (4 members)>"
      ]
     },
     "execution_count": 48,
     "metadata": {},
     "output_type": "execute_result"
    }
   ],
   "source": [
    "f[fashion_dataset[0][0]]"
   ]
  },
  {
   "cell_type": "code",
   "execution_count": 64,
   "metadata": {},
   "outputs": [
    {
     "data": {
      "text/plain": [
       "array([[  0.,   0.,   0., ...,  24.,  24.,  24.],\n",
       "       [  0.,   0.,   0., ...,  24.,  24.,  24.],\n",
       "       [  0.,   0.,   0., ...,  24.,  24.,  24.],\n",
       "       ...,\n",
       "       [400., 400., 400., ..., 424., 424., 424.],\n",
       "       [400., 400., 400., ..., 424., 424., 424.],\n",
       "       [400., 400., 400., ..., 424., 424., 424.]], dtype=float32)"
      ]
     },
     "execution_count": 64,
     "metadata": {},
     "output_type": "execute_result"
    }
   ],
   "source": [
    "f.get('#refs#').get('0').get('segmentation').value"
   ]
  },
  {
   "cell_type": "code",
   "execution_count": 125,
   "metadata": {},
   "outputs": [
    {
     "name": "stdout",
     "output_type": "stream",
     "text": [
      "<HDF5 object reference>\n",
      "[[ 98]\n",
      " [107]]\n"
     ]
    }
   ],
   "source": [
    "all_category_name = f.get('fas').value[0]\n",
    "print(all_category_name[0])\n",
    "print(f[all_category_name[0]].value)\n"
   ]
  },
  {
   "cell_type": "code",
   "execution_count": 113,
   "metadata": {},
   "outputs": [],
   "source": [
    "seg_data = f.get('#refs#').get('zf').get('segmentation').value\n",
    "color_label = f.get('#refs#').get('zf').get('color_label').value[0]\n",
    "category_label = f.get('#refs#').get('zf').get('category_label').value[0]\n",
    "shape = np.shape(seg_data)"
   ]
  },
  {
   "cell_type": "code",
   "execution_count": 114,
   "metadata": {},
   "outputs": [],
   "source": [
    "key_ref = list(f.get('#refs#').keys())"
   ]
  },
  {
   "cell_type": "code",
   "execution_count": 115,
   "metadata": {},
   "outputs": [],
   "source": [
    "import matplotlib.pyplot as plt\n",
    "%matplotlib inline"
   ]
  },
  {
   "cell_type": "code",
   "execution_count": 117,
   "metadata": {},
   "outputs": [],
   "source": [
    "pixels = seg_data.flatten()\n",
    "\n",
    "pix_colors = []\n",
    "pix_labels = []\n",
    "for pix in pixels:\n",
    "    pix = int(pix)\n",
    "    color = color_label[pix]\n",
    "    label = category_label[pix]\n",
    "    pix_colors.append(color)\n",
    "    pix_labels.append(label)"
   ]
  },
  {
   "cell_type": "code",
   "execution_count": 118,
   "metadata": {},
   "outputs": [],
   "source": [
    "new_color_image = np.reshape(pix_colors, shape)\n",
    "new_label_image = np.reshape(pix_labels, shape)"
   ]
  },
  {
   "cell_type": "code",
   "execution_count": 119,
   "metadata": {},
   "outputs": [
    {
     "data": {
      "text/plain": [
       "<matplotlib.image.AxesImage at 0x111de1390>"
      ]
     },
     "execution_count": 119,
     "metadata": {},
     "output_type": "execute_result"
    },
    {
     "data": {
      "image/png": "[encoded data removed]",
      "text/plain": [
       "<Figure size 432x288 with 1 Axes>"
      ]
     },
     "metadata": {},
     "output_type": "display_data"
    }
   ],
   "source": [
    "plt.imshow(new_color_image)"
   ]
  },
  {
   "cell_type": "code",
   "execution_count": 120,
   "metadata": {},
   "outputs": [
    {
     "data": {
      "text/plain": [
       "<matplotlib.image.AxesImage at 0x112eeba90>"
      ]
     },
     "execution_count": 120,
     "metadata": {},
     "output_type": "execute_result"
    },
    {
     "data": {
      "image/png": "[encoded data removed]",
      "text/plain": [
       "<Figure size 432x288 with 1 Axes>"
      ]
     },
     "metadata": {},
     "output_type": "display_data"
    }
   ],
   "source": [
    "plt.imshow(new_label_image)"
   ]
  },
  {
   "cell_type": "code",
   "execution_count": null,
   "metadata": {},
   "outputs": [],
   "source": [
    "# since we have sub pixel labeling, we won't need a bounding box, because we can just apply a mask to the image before we\n",
    "# input it into the neural network"
   ]
  }
 ],
 "metadata": {
  "kernelspec": {
   "display_name": "imaterialist",
   "language": "python",
   "name": "imaterialist"
  },
  "language_info": {
   "codemirror_mode": {
    "name": "ipython",
    "version": 3
   },
   "file_extension": ".py",
   "mimetype": "text/x-python",
   "name": "python",
   "nbconvert_exporter": "python",
   "pygments_lexer": "ipython3",
   "version": "3.6.0"
  }
 },
 "nbformat": 4,
 "nbformat_minor": 2
}
